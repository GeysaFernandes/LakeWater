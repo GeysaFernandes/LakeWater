{
 "cells": [
  {
   "cell_type": "code",
   "execution_count": 2,
   "metadata": {
    "collapsed": false
   },
   "outputs": [],
   "source": [
    "from random import choice\n",
    "from string import ascii_uppercase\n",
    "import math\n",
    "import time\n",
    "from swalign import swalign\n",
    "from scipy.stats import beta\n",
    "import matplotlib.pyplot as plt\n",
    "import numpy as np\n",
    "from scipy.integrate import simps\n",
    "from numpy import trapz\n",
    "import random\n",
    "import operator\n",
    "\n",
    "fig, ax2 = plt.subplots(1, 1)\n",
    "\n",
    "x = [50, 100, 150, 200, 250, 300, 350, 400, 450, 500, 550]\n",
    "y = [-0.20033333333333331, -0.019333333333333313, 0.020285714285714296, 0.018666666666666665, 0.0010000000000000009, -0.0010000000000000009, -0.018333333333333313, -0.036333333333333329, -0.018999999999999961, 0.019285714285714295, -0.0087142857142856744]\n",
    "\n",
    "# calculate polynomial\n",
    "z = np.polyfit(x, y, 3)\n",
    "f = np.poly1d(z)\n",
    "\n",
    "# calculate new x's and y's\n",
    "x_new = np.linspace(x[0], x[-1], 50)\n",
    "y_new = f(x_new)\n",
    "\n",
    "ax2.plot(x, y, 'k-', lw = 4, alpha=0.9, label=\"Error Rate x Length\")\n",
    "#ax2.plot(x_new, y_new, 'k-', lw = 3, alpha=0.9, label=\"\")\n",
    "\n",
    "ax2.plot([0, 300, 600], [0, 0, 0], 'r-', lw = 2, alpha=0.9, label=\"0\")\n",
    "\n",
    "ax2.set_title(\"Length Variation - Length vs. Error Rate\")\n",
    "ax2.set_xlabel(\"True Bacterial\")\n",
    "ax2.set_ylabel(\"Predicted Bacterial\") \n",
    "ax2.legend(loc='best', frameon=False)  \n",
    "plt.show()"
   ]
  }
 ],
 "metadata": {
  "kernelspec": {
   "display_name": "Python 3",
   "language": "python",
   "name": "python3"
  },
  "language_info": {
   "codemirror_mode": {
    "name": "ipython",
    "version": 3
   },
   "file_extension": ".py",
   "mimetype": "text/x-python",
   "name": "python",
   "nbconvert_exporter": "python",
   "pygments_lexer": "ipython3",
   "version": "3.5.1"
  }
 },
 "nbformat": 4,
 "nbformat_minor": 0
}
