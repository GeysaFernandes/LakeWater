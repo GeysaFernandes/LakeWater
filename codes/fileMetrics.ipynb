{
 "cells": [
  {
   "cell_type": "code",
   "execution_count": 1,
   "metadata": {
    "collapsed": false
   },
   "outputs": [
    {
     "name": "stdout",
     "output_type": "stream",
     "text": [
      "reading virus..\n",
      "33501\n",
      "Virus min lenght is:  200\n"
     ]
    }
   ],
   "source": [
    "#Alana Laryssa, Cauanne Linhares, Geysa Fernandes\n",
    "#This code is meant to find out the max and min lenght for bacteria, viruses and lake sequences\n",
    "#and also find out how many lake sequences we have in total\n",
    "\n",
    "#See FileMetrics.txt on the database folder for the results achieved with this code\n",
    "\n",
    "import os\n",
    "from Bio import SeqIO\n",
    "\n",
    "#read n .fna database files in the specified path\n",
    "#set n = 0 to read all files\n",
    "def ReadDataBase(_path, n):\n",
    "    seqList = []\n",
    "    from os import path\n",
    "    files = os.listdir(_path) #makes a list of all files in folder\n",
    "    i = 0\n",
    "    j = 0\n",
    "    for f in files:\n",
    "        for seq_record in SeqIO.parse(_path + f, \"fasta\"): \n",
    "            seqList.append(seq_record.seq) # reads each file into a list\n",
    "            j += 1\n",
    "            if(n > 0):\n",
    "                if(j > n-1):\n",
    "                    i = n\n",
    "                    break\n",
    "        i += 1\n",
    "        j = 0\n",
    "        \n",
    "        if(n > 0):\n",
    "            if(i > n-1):\n",
    "                break\n",
    "                \n",
    "    return seqList    \n",
    "\n",
    "def MaxLength(str_s):\n",
    "    maxm = len(str_s[1])\n",
    "    #print(maxm)\n",
    "    for i in str_s:\n",
    "         if(maxm<len(i)):\n",
    "            maxm = len(i)\n",
    "    return maxm\n",
    "\n",
    "def MinLength(str_s):\n",
    "    minx = len(str_s[1])\n",
    "    #print(minx)\n",
    "    for i in str_s:\n",
    "        if(minx>len(i)):\n",
    "            minx = len(i)\n",
    "            #print(minx)\n",
    "    return minx\n",
    "\n",
    "\n",
    "#**************main***************\n",
    "\n",
    "#I highly recommend that you comment some parts of the main in order to execute each class of file seperatly due to \n",
    "#limited memory on the computer\n",
    "\n",
    "#Reading the data\n",
    "print(\"reading lake..\")\n",
    "lake = ReadDataBase(\"../database/lake/\", 0)\n",
    "print(\"reading bacteria..\")\n",
    "known_bacterias = ReadDataBase(\"../database/bact/\", 0)\n",
    "print(\"reading virus..\")\n",
    "known_viruses = ReadDataBase(\"../database/virus/\", 0)\n",
    "\n",
    "#Treating the empty sequences of the lake\n",
    " for i in lake:\n",
    "        if(len(i)==0):\n",
    "            lake.remove(i)\n",
    "\n",
    "#The Maximuns\n",
    "print(\"Bacteria max lenght is: \", MaxLength(known_bacterias))\n",
    "print(\"Virus max lenght is: \", MaxLength(known_viruses))\n",
    "print(\"Lake max length is: \", MaxLength(lake))\n",
    "\n",
    "#The Minimuns\n",
    "print(\"Bacteria min lenght is: \", MinLength(known_bacterias))\n",
    "print(\"Virus min lenght is: \", MinLength(known_viruses))\n",
    "print(\"Lake min length is: \", MinLength(lake))\n",
    "\n",
    "#The number of files of the lake\n",
    "print(\"The number of lake files is: \", len(lake))\n"
   ]
  },
  {
   "cell_type": "code",
   "execution_count": null,
   "metadata": {
    "collapsed": true
   },
   "outputs": [],
   "source": []
  }
 ],
 "metadata": {
  "kernelspec": {
   "display_name": "Python 3",
   "language": "python",
   "name": "python3"
  },
  "language_info": {
   "codemirror_mode": {
    "name": "ipython",
    "version": 3
   },
   "file_extension": ".py",
   "mimetype": "text/x-python",
   "name": "python",
   "nbconvert_exporter": "python",
   "pygments_lexer": "ipython3",
   "version": "3.5.1"
  }
 },
 "nbformat": 4,
 "nbformat_minor": 0
}
